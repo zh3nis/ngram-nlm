{
 "cells": [
  {
   "cell_type": "code",
   "execution_count": 1,
   "metadata": {},
   "outputs": [],
   "source": [
    "import torch\n",
    "import pandas as pd\n",
    "import numpy as np\n",
    "from sklearn import datasets\n",
    "from sklearn import preprocessing\n",
    "import matplotlib.pyplot as plt"
   ]
  },
  {
   "cell_type": "markdown",
   "metadata": {},
   "source": [
    "### Data"
   ]
  },
  {
   "cell_type": "code",
   "execution_count": 2,
   "metadata": {},
   "outputs": [],
   "source": [
    "bc = datasets.load_breast_cancer()\n",
    "\n",
    "X_bc = bc.data.astype(np.float32)\n",
    "y_bc = bc.target.astype(np.float32)\n",
    "\n",
    "from sklearn.model_selection import train_test_split\n",
    "X_train, X_test, y_train, y_test = train_test_split(\n",
    "    X_bc, y_bc, test_size = .3, random_state=42)\n",
    "\n",
    "scaler = preprocessing.StandardScaler().fit(X_train)\n",
    "X_train = scaler.transform(X_train)\n",
    "X_test = scaler.transform(X_test)"
   ]
  },
  {
   "cell_type": "code",
   "execution_count": 3,
   "metadata": {},
   "outputs": [],
   "source": [
    "class Data(torch.utils.data.Dataset):\n",
    "    \n",
    "    def __init__(self, x, y):\n",
    "        self.x = torch.tensor(x)\n",
    "        self.y = torch.tensor(np.expand_dims(y, 1))\n",
    "        self.len = self.x.shape[0]\n",
    "    \n",
    "    def __getitem__(self, index):      \n",
    "        return self.x[index], self.y[index]\n",
    "    \n",
    "    def __len__(self):\n",
    "        return self.len"
   ]
  },
  {
   "cell_type": "code",
   "execution_count": 4,
   "metadata": {},
   "outputs": [],
   "source": [
    "train_data = Data(X_train, y_train)\n",
    "batch_size = len(train_data) // 10"
   ]
  },
  {
   "cell_type": "code",
   "execution_count": 5,
   "metadata": {},
   "outputs": [],
   "source": [
    "trainloader = torch.utils.data.DataLoader(dataset=train_data, batch_size=batch_size)"
   ]
  },
  {
   "cell_type": "markdown",
   "metadata": {},
   "source": [
    "### Model"
   ]
  },
  {
   "cell_type": "code",
   "execution_count": 6,
   "metadata": {},
   "outputs": [],
   "source": [
    "class Net(torch.nn.Module):\n",
    "    \n",
    "    def __init__(self, n_inputs, n_hidden):\n",
    "        super(Net, self).__init__()\n",
    "        self.linear1 = torch.nn.Linear(n_inputs, n_hidden)\n",
    "        self.linear2 = torch.nn.Linear(n_hidden, 1)\n",
    "        \n",
    "    def forward(self, x):\n",
    "        h    = torch.sigmoid(self.linear1(x))\n",
    "        yhat = torch.sigmoid(self.linear2(h))\n",
    "        return yhat"
   ]
  },
  {
   "cell_type": "code",
   "execution_count": 7,
   "metadata": {},
   "outputs": [],
   "source": [
    "model = Net(X_bc.shape[1], 10)"
   ]
  },
  {
   "cell_type": "markdown",
   "metadata": {},
   "source": [
    "### Baseline training"
   ]
  },
  {
   "cell_type": "code",
   "execution_count": 8,
   "metadata": {},
   "outputs": [],
   "source": [
    "objective = torch.nn.BCELoss()\n",
    "optimizer = torch.optim.Adam(model.parameters(), lr=0.001)"
   ]
  },
  {
   "cell_type": "code",
   "execution_count": 9,
   "metadata": {},
   "outputs": [
    {
     "name": "stderr",
     "output_type": "stream",
     "text": [
      "/usr/local/lib/python3.6/dist-packages/torch/autograd/__init__.py:132: UserWarning: CUDA initialization: Found no NVIDIA driver on your system. Please check that you have an NVIDIA GPU and installed a driver from http://www.nvidia.com/Download/index.aspx (Triggered internally at  /pytorch/c10/cuda/CUDAFunctions.cpp:100.)\n",
      "  allow_unreachable=True)  # allow_unreachable flag\n"
     ]
    }
   ],
   "source": [
    "epochs = 100\n",
    "errors_baseline = []\n",
    "\n",
    "for epoch in range(epochs):\n",
    "    total_error = 0\n",
    "    for x, y in trainloader:\n",
    "        yhat = model(x)\n",
    "        loss = objective(yhat, y)\n",
    "        optimizer.zero_grad()\n",
    "        loss.backward()\n",
    "        optimizer.step()\n",
    "        total_error += loss.data.item()\n",
    "    yhat = model(torch.tensor(X_test))\n",
    "    test_error = objective(yhat, torch.tensor(y_test).view(-1, 1)).data.item()\n",
    "    errors_baseline.append(test_error)"
   ]
  },
  {
   "cell_type": "markdown",
   "metadata": {},
   "source": [
    "### Fast training"
   ]
  },
  {
   "cell_type": "markdown",
   "metadata": {},
   "source": [
    "Train a k-NN classifier"
   ]
  },
  {
   "cell_type": "code",
   "execution_count": 10,
   "metadata": {},
   "outputs": [
    {
     "data": {
      "text/plain": [
       "KNeighborsClassifier(n_neighbors=10)"
      ]
     },
     "execution_count": 10,
     "metadata": {},
     "output_type": "execute_result"
    }
   ],
   "source": [
    "from sklearn.neighbors import KNeighborsClassifier\n",
    "knn = KNeighborsClassifier(n_neighbors=10)\n",
    "knn.fit(X_train, y_train)"
   ]
  },
  {
   "cell_type": "markdown",
   "metadata": {},
   "source": [
    "We need two optimizers"
   ]
  },
  {
   "cell_type": "code",
   "execution_count": 11,
   "metadata": {},
   "outputs": [],
   "source": [
    "model = Net(X_bc.shape[1], 10)\n",
    "\n",
    "optimizer_fast = torch.optim.Adam(model.parameters(), lr=0.01)\n",
    "optimizer_slow = torch.optim.Adam(model.parameters(), lr=0.001)"
   ]
  },
  {
   "cell_type": "markdown",
   "metadata": {},
   "source": [
    "First, we fit the network to k-NN with higher LR"
   ]
  },
  {
   "cell_type": "code",
   "execution_count": 12,
   "metadata": {},
   "outputs": [],
   "source": [
    "epochs = 10\n",
    "errors_fast = []\n",
    "\n",
    "for epoch in range(epochs):\n",
    "    total_error = 0\n",
    "    for x, y in trainloader:\n",
    "        y_hat = model(x)\n",
    "        # This is how we fit a neural network to k-NN\n",
    "        #########################################################################################\n",
    "        y_knn = torch.tensor(knn.predict_proba(x.numpy())[:, 1], dtype=torch.float32).view(-1, 1)\n",
    "        loss = objective(y_hat, y_knn)\n",
    "        #########################################################################################\n",
    "        optimizer_fast.zero_grad()\n",
    "        loss.backward()\n",
    "        optimizer_fast.step()\n",
    "        total_error += loss.item()\n",
    "    yhat = model(torch.tensor(X_test))\n",
    "    test_error = objective(yhat, torch.tensor(y_test).view(-1, 1)).data.item()\n",
    "    errors_fast.append(test_error)"
   ]
  },
  {
   "cell_type": "markdown",
   "metadata": {},
   "source": [
    "Then, we fit the network to data with usual LR"
   ]
  },
  {
   "cell_type": "code",
   "execution_count": 13,
   "metadata": {},
   "outputs": [],
   "source": [
    "epochs = 90\n",
    "\n",
    "for epoch in range(epochs):\n",
    "    total_error = 0\n",
    "    for x, y in trainloader:\n",
    "        y_hat = model(x)\n",
    "        loss = objective(y_hat, y)\n",
    "        optimizer_slow.zero_grad()\n",
    "        loss.backward()\n",
    "        optimizer_slow.step()\n",
    "        total_error += loss.item()\n",
    "    yhat = model(torch.tensor(X_test))\n",
    "    test_error = objective(yhat, torch.tensor(y_test).view(-1, 1)).data.item()\n",
    "    errors_fast.append(test_error)"
   ]
  },
  {
   "cell_type": "markdown",
   "metadata": {},
   "source": [
    "Plot learning curves"
   ]
  },
  {
   "cell_type": "code",
   "execution_count": 14,
   "metadata": {},
   "outputs": [
    {
     "data": {
      "image/png": "[encoded data removed]",
      "text/plain": [
       "<Figure size 432x288 with 1 Axes>"
      ]
     },
     "metadata": {
      "needs_background": "light"
     },
     "output_type": "display_data"
    }
   ],
   "source": [
    "errors = pd.DataFrame({'baseline': errors_baseline, 'fast': errors_fast})\n",
    "errors.plot()\n",
    "\n",
    "plt.title('Shallow Network on Breast Cancer Data')\n",
    "plt.xlabel('epoch')\n",
    "plt.ylabel('valid loss')\n",
    "\n",
    "plt.savefig('knn-neural.pdf', format='pdf', dpi=300)"
   ]
  }
 ],
 "metadata": {
  "kernelspec": {
   "display_name": "Python 3",
   "language": "python",
   "name": "python3"
  },
  "language_info": {
   "codemirror_mode": {
    "name": "ipython",
    "version": 3
   },
   "file_extension": ".py",
   "mimetype": "text/x-python",
   "name": "python",
   "nbconvert_exporter": "python",
   "pygments_lexer": "ipython3",
   "version": "3.6.13"
  }
 },
 "nbformat": 4,
 "nbformat_minor": 4
}
